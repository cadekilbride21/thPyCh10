{
 "cells": [
  {
   "cell_type": "markdown",
   "metadata": {},
   "source": [
    "# Chapter 10 - Lists"
   ]
  },
  {
   "cell_type": "markdown",
   "metadata": {},
   "source": [
    "This chapter presents one of Python's most useful built-in types, lists.  You'll also learn more about objects and what can happen when you have multiple names for the same object (a very noteworthy thing in Comp Sci)."
   ]
  },
  {
   "cell_type": "markdown",
   "metadata": {},
   "source": [
    "A list is a sequence, somewhat like a string.  \n",
    "In a string, the values of the sequence are characters; in a list, they can be any type (even other lists!).  \n",
    "The values in a list are called elements or items.  "
   ]
  },
  {
   "cell_type": "code",
   "execution_count": 14,
   "metadata": {},
   "outputs": [],
   "source": [
    "#Some ways to create a list:\n",
    "#Simplest: enclose elements in square brackets, \n",
    "#separated by commas\n",
    "my_list = [10,20,30]\n",
    "my_other_list = ['goblin', 'beholder', 'tarrasque']\n",
    "#But wait!  The elements can be of different types!\n",
    "list3 = [1, 'a', [\"i'm\",\"a\", \"list\",\"too!\"]]\n",
    "#A list within another list is -nested-\n",
    "empty_list = []"
   ]
  },
  {
   "cell_type": "code",
   "execution_count": 15,
   "metadata": {},
   "outputs": [
    {
     "name": "stdout",
     "output_type": "stream",
     "text": [
      "[10, 20, 30]\n"
     ]
    }
   ],
   "source": [
    "print(my_list)"
   ]
  },
  {
   "cell_type": "code",
   "execution_count": 16,
   "metadata": {},
   "outputs": [
    {
     "data": {
      "text/plain": [
       "[10, 30]"
      ]
     },
     "execution_count": 16,
     "metadata": {},
     "output_type": "execute_result"
    }
   ],
   "source": [
    "#We can access elements of a list using indexes\n",
    "#and slices, just like strings\n",
    "my_list[::2]"
   ]
  },
  {
   "cell_type": "markdown",
   "metadata": {},
   "source": [
    "Lists are Mutable (they can be changed after being created).  \n",
    "(This is different from some other Python sequences like strings or tuples).  "
   ]
  },
  {
   "cell_type": "code",
   "execution_count": 17,
   "metadata": {},
   "outputs": [
    {
     "data": {
      "text/plain": [
       "[10, 20, 'alpha']"
      ]
     },
     "execution_count": 17,
     "metadata": {},
     "output_type": "execute_result"
    }
   ],
   "source": [
    "my_list[2] = 'alpha'\n",
    "my_list"
   ]
  },
  {
   "cell_type": "code",
   "execution_count": 18,
   "metadata": {},
   "outputs": [],
   "source": [
    "#update third term to be alpha"
   ]
  },
  {
   "cell_type": "markdown",
   "metadata": {},
   "source": [
    "Traversing a list.  \n",
    "The most common way to traverse the elements of a list with with a for loop. (Similar to strings)."
   ]
  },
  {
   "cell_type": "code",
   "execution_count": 19,
   "metadata": {},
   "outputs": [
    {
     "name": "stdout",
     "output_type": "stream",
     "text": [
      "I like apple pie!\n",
      "I like cherry pie!\n",
      "I like pumpkin pie!\n",
      "I like banana cream pie!\n",
      "I like key lime pie!\n"
     ]
    }
   ],
   "source": [
    "pies = ['apple', 'cherry', 'pumpkin', 'banana cream', \n",
    "        'key lime']\n",
    "for pie in pies:\n",
    "    print(\"I like\", pie,\"pie!\")\n",
    "\n",
    "#This works well if you want to read the elements"
   ]
  },
  {
   "cell_type": "code",
   "execution_count": 20,
   "metadata": {},
   "outputs": [
    {
     "data": {
      "text/plain": [
       "['apple(Yum!)',\n",
       " 'cherry(Yum!)',\n",
       " 'pumpkin(Yum!)',\n",
       " 'banana cream(Yum!)',\n",
       " 'key lime(Yum!)']"
      ]
     },
     "execution_count": 20,
     "metadata": {},
     "output_type": "execute_result"
    }
   ],
   "source": [
    "#But if you want to write or update the elements, it's\n",
    "#better to use indices\n",
    "excitable_pies = pies\n",
    "for index in range(len(excitable_pies)):\n",
    "    excitable_pies[index] = excitable_pies[index]+\"(Yum!)\"\n",
    "excitable_pies"
   ]
  },
  {
   "cell_type": "code",
   "execution_count": 21,
   "metadata": {},
   "outputs": [],
   "source": [
    "#A for loop over an empty list never runs the body\n",
    "#of the loop\n",
    "for element in []:\n",
    "    print('This will not print')"
   ]
  },
  {
   "cell_type": "code",
   "execution_count": 24,
   "metadata": {},
   "outputs": [
    {
     "data": {
      "text/plain": [
       "[1, 'a', ['one', 'two', 'three']]"
      ]
     },
     "execution_count": 24,
     "metadata": {},
     "output_type": "execute_result"
    }
   ],
   "source": [
    "#remember list3?\n",
    "list3\n",
    "list3[2] = ['one', 'two', 'three']\n",
    "list3"
   ]
  },
  {
   "cell_type": "code",
   "execution_count": 18,
   "metadata": {},
   "outputs": [
    {
     "name": "stdout",
     "output_type": "stream",
     "text": [
      "1\n",
      "a\n",
      "[\"i'm\", 'a', 'list', 'too!']\n"
     ]
    }
   ],
   "source": [
    "#Even though the third entry there is a list, \n",
    "#it counts as a single element of list3 when traversing.\n",
    "for element in list3:\n",
    "    print(element)"
   ]
  },
  {
   "cell_type": "markdown",
   "metadata": {},
   "source": [
    "## List operations  \n",
    "The + operator concatenates list into one  \n",
    "The * operator repeats a list a given number of times"
   ]
  },
  {
   "cell_type": "code",
   "execution_count": 25,
   "metadata": {},
   "outputs": [
    {
     "data": {
      "text/plain": [
       "[1, 2, 3, 4, 5, 6]"
      ]
     },
     "execution_count": 25,
     "metadata": {},
     "output_type": "execute_result"
    }
   ],
   "source": [
    "a = [1, 2, 3]\n",
    "b = [4, 5, 6]\n",
    "c = a + b\n",
    "c"
   ]
  },
  {
   "cell_type": "code",
   "execution_count": 26,
   "metadata": {},
   "outputs": [
    {
     "data": {
      "text/plain": [
       "[1, 2, 3, 1, 2, 3, 1, 2, 3, 1, 2, 3]"
      ]
     },
     "execution_count": 26,
     "metadata": {},
     "output_type": "execute_result"
    }
   ],
   "source": [
    "a * 4"
   ]
  },
  {
   "cell_type": "code",
   "execution_count": 28,
   "metadata": {},
   "outputs": [
    {
     "data": {
      "text/plain": [
       "[0,\n",
       " 0,\n",
       " 0,\n",
       " 0,\n",
       " 0,\n",
       " 0,\n",
       " 0,\n",
       " 0,\n",
       " 0,\n",
       " 0,\n",
       " 0,\n",
       " 0,\n",
       " 0,\n",
       " 0,\n",
       " 0,\n",
       " 0,\n",
       " 0,\n",
       " 0,\n",
       " 0,\n",
       " 0,\n",
       " 0,\n",
       " 0,\n",
       " 0,\n",
       " 0,\n",
       " 0,\n",
       " 0,\n",
       " 0,\n",
       " 0,\n",
       " 0,\n",
       " 0,\n",
       " 0,\n",
       " 0,\n",
       " 0,\n",
       " 0,\n",
       " 0,\n",
       " 0,\n",
       " 0,\n",
       " 0,\n",
       " 0,\n",
       " 0,\n",
       " 0,\n",
       " 0,\n",
       " 0,\n",
       " 0,\n",
       " 0,\n",
       " 0,\n",
       " 0,\n",
       " 0,\n",
       " 0,\n",
       " 0,\n",
       " 0,\n",
       " 0,\n",
       " 0,\n",
       " 0,\n",
       " 0,\n",
       " 0,\n",
       " 0,\n",
       " 0,\n",
       " 0,\n",
       " 0,\n",
       " 0,\n",
       " 0,\n",
       " 0,\n",
       " 0,\n",
       " 0,\n",
       " 0,\n",
       " 0,\n",
       " 0,\n",
       " 0,\n",
       " 0,\n",
       " 0,\n",
       " 0,\n",
       " 0,\n",
       " 0,\n",
       " 0,\n",
       " 0,\n",
       " 0,\n",
       " 0,\n",
       " 0,\n",
       " 0,\n",
       " 0,\n",
       " 0,\n",
       " 0,\n",
       " 0,\n",
       " 0,\n",
       " 0,\n",
       " 0,\n",
       " 0,\n",
       " 0,\n",
       " 0,\n",
       " 0,\n",
       " 0,\n",
       " 0,\n",
       " 0,\n",
       " 0,\n",
       " 0,\n",
       " 0,\n",
       " 0,\n",
       " 0,\n",
       " 0]"
      ]
     },
     "execution_count": 28,
     "metadata": {},
     "output_type": "execute_result"
    }
   ],
   "source": [
    "#list w 100 zeros\n",
    "zero = [0]\n",
    "zero * 100"
   ]
  },
  {
   "cell_type": "markdown",
   "metadata": {},
   "source": [
    "List Slices  \n",
    "Just like strings, we can slice lists"
   ]
  },
  {
   "cell_type": "code",
   "execution_count": 29,
   "metadata": {},
   "outputs": [
    {
     "data": {
      "text/plain": [
       "['c', 'd', 'e']"
      ]
     },
     "execution_count": 29,
     "metadata": {},
     "output_type": "execute_result"
    }
   ],
   "source": [
    "piano_alpha = ['a','b','c','d','e','f','g']\n",
    "piano_alpha[2:5]"
   ]
  },
  {
   "cell_type": "code",
   "execution_count": 30,
   "metadata": {},
   "outputs": [
    {
     "data": {
      "text/plain": [
       "['g', 'f', 'e', 'd', 'c', 'b', 'a']"
      ]
     },
     "execution_count": 30,
     "metadata": {},
     "output_type": "execute_result"
    }
   ],
   "source": [
    "piano_alpha[::-1] #remember this trick?"
   ]
  },
  {
   "cell_type": "code",
   "execution_count": 28,
   "metadata": {},
   "outputs": [
    {
     "data": {
      "text/plain": [
       "['a', 'b', 'c', 'D', 'E', 'f', 'g']"
      ]
     },
     "execution_count": 28,
     "metadata": {},
     "output_type": "execute_result"
    }
   ],
   "source": [
    "piano_copy = piano_alpha\n",
    "piano_copy[3:5] = ['D','E']\n",
    "piano_copy"
   ]
  },
  {
   "cell_type": "code",
   "execution_count": 31,
   "metadata": {},
   "outputs": [
    {
     "data": {
      "text/plain": [
       "[7, 8, 9, 10]"
      ]
     },
     "execution_count": 31,
     "metadata": {},
     "output_type": "execute_result"
    }
   ],
   "source": [
    "#List methods\n",
    "#There are some built-in methods Python has for lists.\n",
    "\n",
    "t = [7,8,9]\n",
    "t.append(10)\n",
    "t\n",
    "#Hint: since l(lowercase L) looks a lot like 1 (one),\n",
    "#it's sometimes avoided as a variable name,\n",
    "#even though it would make sense for a list."
   ]
  },
  {
   "cell_type": "code",
   "execution_count": 34,
   "metadata": {},
   "outputs": [
    {
     "data": {
      "text/plain": [
       "[5,\n",
       " 6,\n",
       " 7,\n",
       " 8,\n",
       " 9,\n",
       " 10,\n",
       " 11,\n",
       " 12,\n",
       " 13,\n",
       " 14,\n",
       " 15,\n",
       " 16,\n",
       " 17,\n",
       " 18,\n",
       " 19,\n",
       " 20,\n",
       " 21,\n",
       " 22,\n",
       " 23,\n",
       " 24,\n",
       " 25,\n",
       " 26,\n",
       " 27,\n",
       " 28,\n",
       " 29,\n",
       " 30,\n",
       " 31,\n",
       " 32,\n",
       " 33,\n",
       " 34,\n",
       " 35,\n",
       " 36,\n",
       " 37,\n",
       " 38,\n",
       " 39,\n",
       " 40,\n",
       " 41,\n",
       " 42,\n",
       " 43,\n",
       " 44,\n",
       " 45,\n",
       " 46,\n",
       " 47,\n",
       " 48,\n",
       " 49,\n",
       " 50,\n",
       " 51,\n",
       " 52,\n",
       " 53,\n",
       " 54,\n",
       " 55,\n",
       " 56,\n",
       " 57,\n",
       " 58,\n",
       " 59,\n",
       " 60,\n",
       " 61,\n",
       " 62,\n",
       " 63,\n",
       " 64,\n",
       " 65,\n",
       " 66,\n",
       " 67,\n",
       " 68,\n",
       " 69,\n",
       " 70,\n",
       " 71,\n",
       " 72,\n",
       " 73,\n",
       " 74,\n",
       " 75,\n",
       " 76,\n",
       " 77,\n",
       " 78,\n",
       " 79,\n",
       " 80,\n",
       " 81,\n",
       " 82,\n",
       " 83,\n",
       " 84,\n",
       " 85,\n",
       " 86,\n",
       " 87,\n",
       " 88,\n",
       " 89,\n",
       " 90,\n",
       " 91,\n",
       " 92,\n",
       " 93,\n",
       " 94,\n",
       " 95]"
      ]
     },
     "execution_count": 34,
     "metadata": {},
     "output_type": "execute_result"
    }
   ],
   "source": [
    "#create a list containing integers from 5 to 95\n",
    "integer_list = []\n",
    "n = 5\n",
    "for n in range(5,96):\n",
    "    integer_list.append(n)\n",
    "integer_list"
   ]
  },
  {
   "cell_type": "code",
   "execution_count": 39,
   "metadata": {},
   "outputs": [
    {
     "name": "stdout",
     "output_type": "stream",
     "text": [
      "HELLO\n",
      "hello\n"
     ]
    }
   ],
   "source": [
    "#Aside: discuss destructive methods vs. \n",
    "#non-destructive\n",
    "s = 'hello'\n",
    "print(s.upper())\n",
    "print(s)"
   ]
  },
  {
   "cell_type": "code",
   "execution_count": 40,
   "metadata": {},
   "outputs": [
    {
     "data": {
      "text/plain": [
       "[7, 8, 9, 10, 11, 12]"
      ]
     },
     "execution_count": 40,
     "metadata": {},
     "output_type": "execute_result"
    }
   ],
   "source": [
    "u = [11,12]\n",
    "#extend takes a list as an argument and appends\n",
    "#all the elements\n",
    "t.extend(u)\n",
    "#This changes t but leaves u alone\n",
    "t"
   ]
  },
  {
   "cell_type": "markdown",
   "metadata": {},
   "source": [
    "Map, filter, reduce"
   ]
  },
  {
   "cell_type": "code",
   "execution_count": 42,
   "metadata": {},
   "outputs": [
    {
     "name": "stdout",
     "output_type": "stream",
     "text": [
      "57\n"
     ]
    }
   ],
   "source": [
    "#to add up all numbers in a list, use a loop like this\n",
    "def add_all(t):\n",
    "    total = 0#we use this as an accumulator variable\n",
    "    for x in t:\n",
    "        total += x #this augmented assignment statement\n",
    "    return total\n",
    "#Note that this works only if all elements \n",
    "#in the list are numbers!\n",
    "print(add_all(t))"
   ]
  },
  {
   "cell_type": "code",
   "execution_count": null,
   "metadata": {},
   "outputs": [],
   "source": [
    "#Practice!  \n",
    "#write a function that returns the maximum\n",
    "#value in a list of numbers!\n",
    "numbers = [5, 25, 99, 3, 42, 11]\n",
    "def find_max(l):\n",
    "    return None"
   ]
  },
  {
   "cell_type": "code",
   "execution_count": 44,
   "metadata": {},
   "outputs": [
    {
     "name": "stdout",
     "output_type": "stream",
     "text": [
      "57\n",
      "12\n"
     ]
    }
   ],
   "source": [
    "#It's actually such a common thing to do\n",
    "#to add elements of a list, that Python has \n",
    "#a built-in function to do it:\n",
    "print(sum(t))\n",
    "#this \"reduces\" a sequence into one value\n",
    "\n",
    "#Do you suspect a similar function exists for \n",
    "#maximum?\n"
   ]
  },
  {
   "cell_type": "code",
   "execution_count": 46,
   "metadata": {},
   "outputs": [
    {
     "data": {
      "text/plain": [
       "['Apple', 'Bear', 'Cafe', 'Draven', 'Egg']"
      ]
     },
     "execution_count": 46,
     "metadata": {},
     "output_type": "execute_result"
    }
   ],
   "source": [
    "#Sometimes we want to build one list from another\n",
    "words = ['apple', 'bear', 'Cafe', 'Draven', 'egg']\n",
    "def capitalize_all(t):\n",
    "    result = []\n",
    "    for word in t:\n",
    "        result.append(word.capitalize())\n",
    "    return result\n",
    "capitalize_all(words)\n",
    "#This function is called a \"map\" because\n",
    "#it maps a function (capitalize) onto each \n",
    "#entry of the list"
   ]
  },
  {
   "cell_type": "code",
   "execution_count": 48,
   "metadata": {},
   "outputs": [
    {
     "name": "stdout",
     "output_type": "stream",
     "text": [
      "['WORLD', 'OOPS CAPS']\n"
     ]
    }
   ],
   "source": [
    "#Filter\n",
    "def only_upper(t):\n",
    "    result = []\n",
    "    for s in t:\n",
    "        if s.isupper():\n",
    "            result.append(s)\n",
    "    return result\n",
    "print(only_upper(['Hello', 'WORLD', 'OOPS CAPS', 'sorry']))"
   ]
  },
  {
   "cell_type": "code",
   "execution_count": 47,
   "metadata": {},
   "outputs": [],
   "source": [
    "#Practice:\n",
    "#Design your own function of lists \n",
    "#e.g. reverse all string entries, or make them\n",
    "#all uppercase, or make all numerical entries negative,\n",
    "#or so on...\n"
   ]
  },
  {
   "cell_type": "code",
   "execution_count": 51,
   "metadata": {},
   "outputs": [
    {
     "name": "stdout",
     "output_type": "stream",
     "text": [
      "y\n"
     ]
    },
    {
     "data": {
      "text/plain": [
       "['x', 'z']"
      ]
     },
     "execution_count": 51,
     "metadata": {},
     "output_type": "execute_result"
    }
   ],
   "source": [
    "#Deleting \n",
    "#There are several ways.\n",
    "alph = ['x','y','z']\n",
    "y = alph.pop(1) #useful to keep the popped entry\n",
    "print(y)\n",
    "alph"
   ]
  },
  {
   "cell_type": "code",
   "execution_count": 52,
   "metadata": {},
   "outputs": [
    {
     "data": {
      "text/plain": [
       "['z']"
      ]
     },
     "execution_count": 52,
     "metadata": {},
     "output_type": "execute_result"
    }
   ],
   "source": [
    "#If you don't need to keep it, use del\n",
    "del alph[0]\n",
    "alph"
   ]
  },
  {
   "cell_type": "code",
   "execution_count": 53,
   "metadata": {},
   "outputs": [
    {
     "data": {
      "text/plain": [
       "[]"
      ]
     },
     "execution_count": 53,
     "metadata": {},
     "output_type": "execute_result"
    }
   ],
   "source": [
    "#If you know the element you want to remove\n",
    "#but not the index, you can use \"remove\"\n",
    "alph.remove('z')\n",
    "alph"
   ]
  },
  {
   "cell_type": "code",
   "execution_count": 55,
   "metadata": {},
   "outputs": [
    {
     "data": {
      "text/plain": [
       "['x']"
      ]
     },
     "execution_count": 55,
     "metadata": {},
     "output_type": "execute_result"
    }
   ],
   "source": [
    "#to remove more than one at a time, you can \n",
    "#del with a slice index\n",
    "alph = ['x','y','z']\n",
    "del alph[1:]\n",
    "alph"
   ]
  },
  {
   "cell_type": "markdown",
   "metadata": {},
   "source": [
    "# Lists and Strings  \n",
    "Although a list of characters and a string have a lot in common, they are not the same.  \n",
    "You can, of course, convert one to the other with casting.  \n"
   ]
  },
  {
   "cell_type": "code",
   "execution_count": 56,
   "metadata": {},
   "outputs": [
    {
     "data": {
      "text/plain": [
       "['h', 'e', 'l', 'l', 'o', ' ', 'w', 'o', 'r', 'l', 'd']"
      ]
     },
     "execution_count": 56,
     "metadata": {},
     "output_type": "execute_result"
    }
   ],
   "source": [
    "s = 'hello world'\n",
    "t = list(s)\n",
    "t\n",
    "#Similar to str or int, you should avoid using \"list\"\n",
    "#as a variable name\n"
   ]
  },
  {
   "cell_type": "code",
   "execution_count": 57,
   "metadata": {},
   "outputs": [
    {
     "data": {
      "text/plain": [
       "['Hello', 'studious', 'students,', 'good', 'day.']"
      ]
     },
     "execution_count": 57,
     "metadata": {},
     "output_type": "execute_result"
    }
   ],
   "source": [
    "#If you want to break a string into words, you can\n",
    "#Use the split method\n",
    "sentence = 'Hello studious students, good day.'\n",
    "sentence.split()"
   ]
  },
  {
   "cell_type": "code",
   "execution_count": 58,
   "metadata": {},
   "outputs": [],
   "source": [
    "#We can also use an optional argument for split()\n",
    "#called a delimiter\n",
    "sentence2 = 'bow-wow-woof-woof!'"
   ]
  },
  {
   "cell_type": "code",
   "execution_count": 59,
   "metadata": {},
   "outputs": [
    {
     "data": {
      "text/plain": [
       "'I like traffic lights'"
      ]
     },
     "execution_count": 59,
     "metadata": {},
     "output_type": "execute_result"
    }
   ],
   "source": [
    "#Join is the inverse of split.  It takes a \n",
    "#List of strings and concatenates the elements.\n",
    "\n",
    "#Join is a string method, so we invoke it on the \n",
    "#Delimiter, and pass it a list as a parameter.\n",
    "words = ['I', 'like', 'traffic', 'lights']\n",
    "' '.join(words)"
   ]
  },
  {
   "cell_type": "code",
   "execution_count": 60,
   "metadata": {},
   "outputs": [
    {
     "data": {
      "text/plain": [
       "'arf-arf-bow-wow'"
      ]
     },
     "execution_count": 60,
     "metadata": {},
     "output_type": "execute_result"
    }
   ],
   "source": [
    "dog_words = ['arf','arf','bow','wow']\n",
    "'-'.join(dog_words)"
   ]
  },
  {
   "cell_type": "code",
   "execution_count": 61,
   "metadata": {},
   "outputs": [
    {
     "data": {
      "text/plain": [
       "'arfarfbowwow'"
      ]
     },
     "execution_count": 61,
     "metadata": {},
     "output_type": "execute_result"
    }
   ],
   "source": [
    "#One handy way to concatenate everything in a list\n",
    "#together with no delimiter is:\n",
    "''.join(dog_words)\n",
    "#by using the empty string as the delimiter"
   ]
  },
  {
   "cell_type": "markdown",
   "metadata": {},
   "source": [
    "# Objects and Values"
   ]
  },
  {
   "cell_type": "code",
   "execution_count": 62,
   "metadata": {},
   "outputs": [
    {
     "data": {
      "text/plain": [
       "True"
      ]
     },
     "execution_count": 62,
     "metadata": {},
     "output_type": "execute_result"
    }
   ],
   "source": [
    "#if we run:\n",
    "a = 'coconut'\n",
    "b = 'coconut'\n",
    "#We know that a and b refer to a string, but\n",
    "#is it the same string or two separate strings\n",
    "#that happen to have the same value?\n",
    "#In this case, Python only created one string object,\n",
    "#and both a and b refer to it.\n",
    "#one way to check is with \"is\"\n",
    "a is b"
   ]
  },
  {
   "cell_type": "code",
   "execution_count": 65,
   "metadata": {},
   "outputs": [
    {
     "name": "stdout",
     "output_type": "stream",
     "text": [
      "False\n"
     ]
    }
   ],
   "source": [
    "#But, when you create two lists:\n",
    "a = [1,2,3]\n",
    "b = [1,2,3]\n",
    "print(a is b) #False\n",
    "#, you get False.  Because Python creates TWO\n",
    "#list objects\n",
    "#We say that a and b are equivalent but not identical\n",
    "\n",
    "#I remember this by thinking of strings, ints, booleans\n",
    "#as \"fundamental\" data types, while lists, tuples,\n",
    "#dictionaries, etc, are more abstract\n",
    "\n",
    "#It gets even more complicated with \"copying\" \n",
    "#objects...\n"
   ]
  },
  {
   "cell_type": "markdown",
   "metadata": {},
   "source": [
    "# Aliasing"
   ]
  },
  {
   "cell_type": "code",
   "execution_count": 66,
   "metadata": {},
   "outputs": [
    {
     "data": {
      "text/plain": [
       "[1, 9, 3]"
      ]
     },
     "execution_count": 66,
     "metadata": {},
     "output_type": "execute_result"
    }
   ],
   "source": [
    "#if a refers to an object, and you assign b = a,\n",
    "#Then both variables refer to the same object\n",
    "a = [1,2,3]\n",
    "b = a\n",
    "#then both a and b \"point\" to the same list in memory\n",
    "\n",
    "#associating a variable with an object is called\n",
    "#a 'reference'.  In this case, there are two \n",
    "#references to the same object.\n",
    "#So, that object is \"aliased\"\n",
    "\n",
    "#If that object can be altered, changes using one alias\n",
    "#affect the other.\n",
    "b[1] = 9\n",
    "a\n",
    "\n",
    "#WARNING! If a and b referred to a list with \n",
    "#further lists inside, then we get into issues of\n",
    "#Copy depth..."
   ]
  },
  {
   "cell_type": "markdown",
   "metadata": {},
   "source": [
    "List arguments"
   ]
  },
  {
   "cell_type": "code",
   "execution_count": 72,
   "metadata": {},
   "outputs": [
    {
     "name": "stdout",
     "output_type": "stream",
     "text": [
      "[2, 3]\n",
      "[1, 2, 3, 3]\n"
     ]
    }
   ],
   "source": [
    "#When you pass a list to a function,\n",
    "#the function gets a reference to the list.\n",
    "#If the function modifies the list, the caller\n",
    "#sees the change.\n",
    "#You can create destructive and non-destructive\n",
    "#treatments of lists and objects this way\n",
    "\n",
    "#examples:\n",
    "def tail(t):\n",
    "    return t[1:]\n",
    "\n",
    "def longerer(t):\n",
    "    t.append(t[-1])\n",
    "\n",
    "s = [1,2,3]\n",
    "print(tail(s))\n",
    "longerer(s)\n",
    "print(s)"
   ]
  },
  {
   "cell_type": "markdown",
   "metadata": {},
   "source": [
    "# Exercises!"
   ]
  },
  {
   "cell_type": "raw",
   "metadata": {},
   "source": [
    "Exercise 1  \n",
    "Write a function called nested_sum that takes a list of lists of integers and adds up the elements from all of the nested lists. For example:\n",
    ">>> t = [[1, 2], [3], [4, 5, 6]]\n",
    ">>> nested_sum(t)\n",
    "21"
   ]
  },
  {
   "cell_type": "code",
   "execution_count": null,
   "metadata": {},
   "outputs": [],
   "source": []
  },
  {
   "cell_type": "raw",
   "metadata": {},
   "source": [
    "Exercise 2  \n",
    "Write a function called cumsum that takes a list of numbers and returns the cumulative sum; that is, a new list where the ith element is the sum of the first i+1 elements from the original list. For example:\n",
    ">>> t = [1, 2, 3]\n",
    ">>> cumsum(t)\n",
    "[1, 3, 6]"
   ]
  },
  {
   "cell_type": "code",
   "execution_count": null,
   "metadata": {},
   "outputs": [],
   "source": []
  },
  {
   "cell_type": "raw",
   "metadata": {},
   "source": [
    "Exercise 3  \n",
    "Write a function called middle that takes a list and returns a new list that contains all but the first and last elements. For example:\n",
    ">>> t = [1, 2, 3, 4]\n",
    ">>> middle(t)\n",
    "[2, 3]"
   ]
  },
  {
   "cell_type": "code",
   "execution_count": null,
   "metadata": {},
   "outputs": [],
   "source": []
  },
  {
   "cell_type": "raw",
   "metadata": {},
   "source": [
    "Exercise 4  \n",
    "Write a function called chop that takes a list, modifies it by removing the first and last elements, and returns None. For example:\n",
    ">>> t = [1, 2, 3, 4]\n",
    ">>> chop(t)\n",
    ">>> t\n",
    "[2, 3]"
   ]
  },
  {
   "cell_type": "code",
   "execution_count": null,
   "metadata": {},
   "outputs": [],
   "source": []
  },
  {
   "cell_type": "raw",
   "metadata": {},
   "source": [
    "Exercise 5   Write a function called is_sorted that takes a list as a parameter and returns True if the list is sorted in ascending order and False otherwise. For example:\n",
    ">>> is_sorted([1, 2, 2])\n",
    "True\n",
    ">>> is_sorted(['b', 'a'])\n",
    "False"
   ]
  },
  {
   "cell_type": "code",
   "execution_count": null,
   "metadata": {},
   "outputs": [],
   "source": []
  },
  {
   "cell_type": "raw",
   "metadata": {},
   "source": [
    "Exercise 6  \n",
    "Two words are anagrams if you can rearrange the letters from one to spell the other. Write a function called is_anagram that takes two strings and returns True if they are anagrams."
   ]
  },
  {
   "cell_type": "code",
   "execution_count": null,
   "metadata": {},
   "outputs": [],
   "source": []
  },
  {
   "cell_type": "raw",
   "metadata": {},
   "source": [
    "Exercise 7  \n",
    "Write a function called has_duplicates that takes a list and returns True if there is any element that appears more than once. It should not modify the original list."
   ]
  },
  {
   "cell_type": "code",
   "execution_count": null,
   "metadata": {},
   "outputs": [],
   "source": []
  },
  {
   "cell_type": "raw",
   "metadata": {},
   "source": [
    "Exercise 8  \n",
    "This exercise pertains to the so-called Birthday Paradox, which you can read about at http://en.wikipedia.org/wiki/Birthday_paradox.\n",
    "If there are 23 students in your class, what are the chances that two of you have the same birthday? You can estimate this probability by generating random samples of 23 birthdays and checking for matches. Hint: you can generate random birthdays with the randint function in the random module."
   ]
  },
  {
   "cell_type": "code",
   "execution_count": null,
   "metadata": {},
   "outputs": [],
   "source": []
  }
 ],
 "metadata": {
  "kernelspec": {
   "display_name": "Python 3",
   "language": "python",
   "name": "python3"
  },
  "language_info": {
   "codemirror_mode": {
    "name": "ipython",
    "version": 3
   },
   "file_extension": ".py",
   "mimetype": "text/x-python",
   "name": "python",
   "nbconvert_exporter": "python",
   "pygments_lexer": "ipython3",
   "version": "3.8.3"
  }
 },
 "nbformat": 4,
 "nbformat_minor": 4
}
